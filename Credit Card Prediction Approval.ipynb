{
 "cells": [
  {
   "cell_type": "code",
   "execution_count": 56,
   "id": "8443b596",
   "metadata": {},
   "outputs": [],
   "source": [
    "# making a copy of the dataframe\n",
    "ccard_df = ccard_df.copy()"
   ]
  },
  {
   "cell_type": "code",
   "execution_count": 1,
   "id": "97212681",
   "metadata": {},
   "outputs": [],
   "source": [
    "import pandas as pd\n",
    "import numpy as np\n",
    "\n",
    "import matplotlib.pyplot as plt\n",
    "import seaborn as sns\n",
    "import plotly.express as px\n",
    "from plotly.subplots import make_subplots"
   ]
  },
  {
   "cell_type": "code",
   "execution_count": 2,
   "id": "0c9b46d4",
   "metadata": {},
   "outputs": [
    {
     "data": {
      "text/html": [
       "<div>\n",
       "<style scoped>\n",
       "    .dataframe tbody tr th:only-of-type {\n",
       "        vertical-align: middle;\n",
       "    }\n",
       "\n",
       "    .dataframe tbody tr th {\n",
       "        vertical-align: top;\n",
       "    }\n",
       "\n",
       "    .dataframe thead th {\n",
       "        text-align: right;\n",
       "    }\n",
       "</style>\n",
       "<table border=\"1\" class=\"dataframe\">\n",
       "  <thead>\n",
       "    <tr style=\"text-align: right;\">\n",
       "      <th></th>\n",
       "      <th>0</th>\n",
       "      <th>1</th>\n",
       "      <th>2</th>\n",
       "      <th>3</th>\n",
       "      <th>4</th>\n",
       "      <th>5</th>\n",
       "      <th>6</th>\n",
       "      <th>7</th>\n",
       "      <th>8</th>\n",
       "      <th>9</th>\n",
       "      <th>10</th>\n",
       "      <th>11</th>\n",
       "      <th>12</th>\n",
       "      <th>13</th>\n",
       "      <th>14</th>\n",
       "      <th>15</th>\n",
       "    </tr>\n",
       "  </thead>\n",
       "  <tbody>\n",
       "    <tr>\n",
       "      <th>0</th>\n",
       "      <td>b</td>\n",
       "      <td>30.83</td>\n",
       "      <td>0.000</td>\n",
       "      <td>u</td>\n",
       "      <td>g</td>\n",
       "      <td>w</td>\n",
       "      <td>v</td>\n",
       "      <td>1.25</td>\n",
       "      <td>t</td>\n",
       "      <td>t</td>\n",
       "      <td>1</td>\n",
       "      <td>f</td>\n",
       "      <td>g</td>\n",
       "      <td>00202</td>\n",
       "      <td>0</td>\n",
       "      <td>+</td>\n",
       "    </tr>\n",
       "    <tr>\n",
       "      <th>1</th>\n",
       "      <td>a</td>\n",
       "      <td>58.67</td>\n",
       "      <td>4.460</td>\n",
       "      <td>u</td>\n",
       "      <td>g</td>\n",
       "      <td>q</td>\n",
       "      <td>h</td>\n",
       "      <td>3.04</td>\n",
       "      <td>t</td>\n",
       "      <td>t</td>\n",
       "      <td>6</td>\n",
       "      <td>f</td>\n",
       "      <td>g</td>\n",
       "      <td>00043</td>\n",
       "      <td>560</td>\n",
       "      <td>+</td>\n",
       "    </tr>\n",
       "    <tr>\n",
       "      <th>2</th>\n",
       "      <td>a</td>\n",
       "      <td>24.50</td>\n",
       "      <td>0.500</td>\n",
       "      <td>u</td>\n",
       "      <td>g</td>\n",
       "      <td>q</td>\n",
       "      <td>h</td>\n",
       "      <td>1.50</td>\n",
       "      <td>t</td>\n",
       "      <td>f</td>\n",
       "      <td>0</td>\n",
       "      <td>f</td>\n",
       "      <td>g</td>\n",
       "      <td>00280</td>\n",
       "      <td>824</td>\n",
       "      <td>+</td>\n",
       "    </tr>\n",
       "    <tr>\n",
       "      <th>3</th>\n",
       "      <td>b</td>\n",
       "      <td>27.83</td>\n",
       "      <td>1.540</td>\n",
       "      <td>u</td>\n",
       "      <td>g</td>\n",
       "      <td>w</td>\n",
       "      <td>v</td>\n",
       "      <td>3.75</td>\n",
       "      <td>t</td>\n",
       "      <td>t</td>\n",
       "      <td>5</td>\n",
       "      <td>t</td>\n",
       "      <td>g</td>\n",
       "      <td>00100</td>\n",
       "      <td>3</td>\n",
       "      <td>+</td>\n",
       "    </tr>\n",
       "    <tr>\n",
       "      <th>4</th>\n",
       "      <td>b</td>\n",
       "      <td>20.17</td>\n",
       "      <td>5.625</td>\n",
       "      <td>u</td>\n",
       "      <td>g</td>\n",
       "      <td>w</td>\n",
       "      <td>v</td>\n",
       "      <td>1.71</td>\n",
       "      <td>t</td>\n",
       "      <td>f</td>\n",
       "      <td>0</td>\n",
       "      <td>f</td>\n",
       "      <td>s</td>\n",
       "      <td>00120</td>\n",
       "      <td>0</td>\n",
       "      <td>+</td>\n",
       "    </tr>\n",
       "  </tbody>\n",
       "</table>\n",
       "</div>"
      ],
      "text/plain": [
       "  0      1      2  3  4  5  6     7  8  9   10 11 12     13   14 15\n",
       "0  b  30.83  0.000  u  g  w  v  1.25  t  t   1  f  g  00202    0  +\n",
       "1  a  58.67  4.460  u  g  q  h  3.04  t  t   6  f  g  00043  560  +\n",
       "2  a  24.50  0.500  u  g  q  h  1.50  t  f   0  f  g  00280  824  +\n",
       "3  b  27.83  1.540  u  g  w  v  3.75  t  t   5  t  g  00100    3  +\n",
       "4  b  20.17  5.625  u  g  w  v  1.71  t  f   0  f  s  00120    0  +"
      ]
     },
     "execution_count": 2,
     "metadata": {},
     "output_type": "execute_result"
    }
   ],
   "source": [
    "ccard_df = pd.read_csv('/Users/jadeelajala/Downloads/ccard.csv', header = None)\n",
    "ccard_df.head()"
   ]
  },
  {
   "cell_type": "code",
   "execution_count": 3,
   "id": "811966f4",
   "metadata": {},
   "outputs": [
    {
     "data": {
      "text/html": [
       "<div>\n",
       "<style scoped>\n",
       "    .dataframe tbody tr th:only-of-type {\n",
       "        vertical-align: middle;\n",
       "    }\n",
       "\n",
       "    .dataframe tbody tr th {\n",
       "        vertical-align: top;\n",
       "    }\n",
       "\n",
       "    .dataframe thead th {\n",
       "        text-align: right;\n",
       "    }\n",
       "</style>\n",
       "<table border=\"1\" class=\"dataframe\">\n",
       "  <thead>\n",
       "    <tr style=\"text-align: right;\">\n",
       "      <th></th>\n",
       "      <th>A1</th>\n",
       "      <th>A2</th>\n",
       "      <th>A3</th>\n",
       "      <th>A4</th>\n",
       "      <th>A5</th>\n",
       "      <th>A6</th>\n",
       "      <th>A7</th>\n",
       "      <th>A8</th>\n",
       "      <th>A9</th>\n",
       "      <th>A10</th>\n",
       "      <th>A11</th>\n",
       "      <th>A12</th>\n",
       "      <th>A13</th>\n",
       "      <th>A14</th>\n",
       "      <th>A15</th>\n",
       "      <th>Outcome</th>\n",
       "    </tr>\n",
       "  </thead>\n",
       "  <tbody>\n",
       "    <tr>\n",
       "      <th>0</th>\n",
       "      <td>b</td>\n",
       "      <td>30.83</td>\n",
       "      <td>0.00</td>\n",
       "      <td>u</td>\n",
       "      <td>g</td>\n",
       "      <td>w</td>\n",
       "      <td>v</td>\n",
       "      <td>1.25</td>\n",
       "      <td>t</td>\n",
       "      <td>t</td>\n",
       "      <td>1</td>\n",
       "      <td>f</td>\n",
       "      <td>g</td>\n",
       "      <td>00202</td>\n",
       "      <td>0</td>\n",
       "      <td>+</td>\n",
       "    </tr>\n",
       "    <tr>\n",
       "      <th>1</th>\n",
       "      <td>a</td>\n",
       "      <td>58.67</td>\n",
       "      <td>4.46</td>\n",
       "      <td>u</td>\n",
       "      <td>g</td>\n",
       "      <td>q</td>\n",
       "      <td>h</td>\n",
       "      <td>3.04</td>\n",
       "      <td>t</td>\n",
       "      <td>t</td>\n",
       "      <td>6</td>\n",
       "      <td>f</td>\n",
       "      <td>g</td>\n",
       "      <td>00043</td>\n",
       "      <td>560</td>\n",
       "      <td>+</td>\n",
       "    </tr>\n",
       "    <tr>\n",
       "      <th>2</th>\n",
       "      <td>a</td>\n",
       "      <td>24.50</td>\n",
       "      <td>0.50</td>\n",
       "      <td>u</td>\n",
       "      <td>g</td>\n",
       "      <td>q</td>\n",
       "      <td>h</td>\n",
       "      <td>1.50</td>\n",
       "      <td>t</td>\n",
       "      <td>f</td>\n",
       "      <td>0</td>\n",
       "      <td>f</td>\n",
       "      <td>g</td>\n",
       "      <td>00280</td>\n",
       "      <td>824</td>\n",
       "      <td>+</td>\n",
       "    </tr>\n",
       "  </tbody>\n",
       "</table>\n",
       "</div>"
      ],
      "text/plain": [
       "  A1     A2    A3 A4 A5 A6 A7    A8 A9 A10  A11 A12 A13    A14  A15 Outcome\n",
       "0  b  30.83  0.00  u  g  w  v  1.25  t   t    1   f   g  00202    0       +\n",
       "1  a  58.67  4.46  u  g  q  h  3.04  t   t    6   f   g  00043  560       +\n",
       "2  a  24.50  0.50  u  g  q  h  1.50  t   f    0   f   g  00280  824       +"
      ]
     },
     "execution_count": 3,
     "metadata": {},
     "output_type": "execute_result"
    }
   ],
   "source": [
    "# assign labels to the features\n",
    "col_names = [f'A{n}' for n in range(1,len(ccard_df.columns))]\n",
    "col_names.append('Outcome')\n",
    "ccard_df.columns = col_names\n",
    "ccard_df.head(n=3)"
   ]
  },
  {
   "cell_type": "code",
   "execution_count": 4,
   "id": "f26c1a9f",
   "metadata": {
    "scrolled": true
   },
   "outputs": [
    {
     "name": "stdout",
     "output_type": "stream",
     "text": [
      "<class 'pandas.core.frame.DataFrame'>\n",
      "RangeIndex: 690 entries, 0 to 689\n",
      "Data columns (total 16 columns):\n",
      " #   Column   Non-Null Count  Dtype  \n",
      "---  ------   --------------  -----  \n",
      " 0   A1       690 non-null    object \n",
      " 1   A2       690 non-null    object \n",
      " 2   A3       690 non-null    float64\n",
      " 3   A4       690 non-null    object \n",
      " 4   A5       690 non-null    object \n",
      " 5   A6       690 non-null    object \n",
      " 6   A7       690 non-null    object \n",
      " 7   A8       690 non-null    float64\n",
      " 8   A9       690 non-null    object \n",
      " 9   A10      690 non-null    object \n",
      " 10  A11      690 non-null    int64  \n",
      " 11  A12      690 non-null    object \n",
      " 12  A13      690 non-null    object \n",
      " 13  A14      690 non-null    object \n",
      " 14  A15      690 non-null    int64  \n",
      " 15  Outcome  690 non-null    object \n",
      "dtypes: float64(2), int64(2), object(12)\n",
      "memory usage: 86.4+ KB\n",
      "None\n",
      "\n",
      "               A3          A8        A11            A15\n",
      "count  690.000000  690.000000  690.00000     690.000000\n",
      "mean     4.758725    2.223406    2.40000    1017.385507\n",
      "std      4.978163    3.346513    4.86294    5210.102598\n",
      "min      0.000000    0.000000    0.00000       0.000000\n",
      "25%      1.000000    0.165000    0.00000       0.000000\n",
      "50%      2.750000    1.000000    0.00000       5.000000\n",
      "75%      7.207500    2.625000    3.00000     395.500000\n",
      "max     28.000000   28.500000   67.00000  100000.000000\n"
     ]
    }
   ],
   "source": [
    "# get info about the dataset\n",
    "print(ccard_df.info())\n",
    "\n",
    "print()\n",
    "\n",
    "print(ccard_df.describe())"
   ]
  },
  {
   "cell_type": "markdown",
   "id": "41dc0ea8",
   "metadata": {},
   "source": [
    "# Cleaning Data"
   ]
  },
  {
   "cell_type": "code",
   "execution_count": 6,
   "id": "d5bfc90e",
   "metadata": {},
   "outputs": [
    {
     "data": {
      "text/plain": [
       "A1         0\n",
       "A2         0\n",
       "A3         0\n",
       "A4         0\n",
       "A5         0\n",
       "A6         0\n",
       "A7         0\n",
       "A8         0\n",
       "A9         0\n",
       "A10        0\n",
       "A11        0\n",
       "A12        0\n",
       "A13        0\n",
       "A14        0\n",
       "A15        0\n",
       "Outcome    0\n",
       "dtype: int64"
      ]
     },
     "execution_count": 6,
     "metadata": {},
     "output_type": "execute_result"
    }
   ],
   "source": [
    "#check for Null entries\n",
    "ccard_df.isnull().sum()"
   ]
  },
  {
   "cell_type": "code",
   "execution_count": 7,
   "id": "bd0f6980",
   "metadata": {},
   "outputs": [
    {
     "data": {
      "text/html": [
       "<div>\n",
       "<style scoped>\n",
       "    .dataframe tbody tr th:only-of-type {\n",
       "        vertical-align: middle;\n",
       "    }\n",
       "\n",
       "    .dataframe tbody tr th {\n",
       "        vertical-align: top;\n",
       "    }\n",
       "\n",
       "    .dataframe thead th {\n",
       "        text-align: right;\n",
       "    }\n",
       "</style>\n",
       "<table border=\"1\" class=\"dataframe\">\n",
       "  <thead>\n",
       "    <tr style=\"text-align: right;\">\n",
       "      <th></th>\n",
       "      <th>A1</th>\n",
       "      <th>A2</th>\n",
       "      <th>A3</th>\n",
       "      <th>A4</th>\n",
       "      <th>A5</th>\n",
       "      <th>A6</th>\n",
       "      <th>A7</th>\n",
       "      <th>A8</th>\n",
       "      <th>A9</th>\n",
       "      <th>A10</th>\n",
       "      <th>A11</th>\n",
       "      <th>A12</th>\n",
       "      <th>A13</th>\n",
       "      <th>A14</th>\n",
       "      <th>A15</th>\n",
       "      <th>Outcome</th>\n",
       "    </tr>\n",
       "  </thead>\n",
       "  <tbody>\n",
       "    <tr>\n",
       "      <th>248</th>\n",
       "      <td>?</td>\n",
       "      <td>24.50</td>\n",
       "      <td>12.750</td>\n",
       "      <td>u</td>\n",
       "      <td>g</td>\n",
       "      <td>c</td>\n",
       "      <td>bb</td>\n",
       "      <td>4.750</td>\n",
       "      <td>t</td>\n",
       "      <td>t</td>\n",
       "      <td>2</td>\n",
       "      <td>f</td>\n",
       "      <td>g</td>\n",
       "      <td>00073</td>\n",
       "      <td>444</td>\n",
       "      <td>+</td>\n",
       "    </tr>\n",
       "    <tr>\n",
       "      <th>327</th>\n",
       "      <td>?</td>\n",
       "      <td>40.83</td>\n",
       "      <td>3.500</td>\n",
       "      <td>u</td>\n",
       "      <td>g</td>\n",
       "      <td>i</td>\n",
       "      <td>bb</td>\n",
       "      <td>0.500</td>\n",
       "      <td>f</td>\n",
       "      <td>f</td>\n",
       "      <td>0</td>\n",
       "      <td>f</td>\n",
       "      <td>s</td>\n",
       "      <td>01160</td>\n",
       "      <td>0</td>\n",
       "      <td>-</td>\n",
       "    </tr>\n",
       "    <tr>\n",
       "      <th>346</th>\n",
       "      <td>?</td>\n",
       "      <td>32.25</td>\n",
       "      <td>1.500</td>\n",
       "      <td>u</td>\n",
       "      <td>g</td>\n",
       "      <td>c</td>\n",
       "      <td>v</td>\n",
       "      <td>0.250</td>\n",
       "      <td>f</td>\n",
       "      <td>f</td>\n",
       "      <td>0</td>\n",
       "      <td>t</td>\n",
       "      <td>g</td>\n",
       "      <td>00372</td>\n",
       "      <td>122</td>\n",
       "      <td>-</td>\n",
       "    </tr>\n",
       "    <tr>\n",
       "      <th>374</th>\n",
       "      <td>?</td>\n",
       "      <td>28.17</td>\n",
       "      <td>0.585</td>\n",
       "      <td>u</td>\n",
       "      <td>g</td>\n",
       "      <td>aa</td>\n",
       "      <td>v</td>\n",
       "      <td>0.040</td>\n",
       "      <td>f</td>\n",
       "      <td>f</td>\n",
       "      <td>0</td>\n",
       "      <td>f</td>\n",
       "      <td>g</td>\n",
       "      <td>00260</td>\n",
       "      <td>1004</td>\n",
       "      <td>-</td>\n",
       "    </tr>\n",
       "    <tr>\n",
       "      <th>453</th>\n",
       "      <td>?</td>\n",
       "      <td>29.75</td>\n",
       "      <td>0.665</td>\n",
       "      <td>u</td>\n",
       "      <td>g</td>\n",
       "      <td>w</td>\n",
       "      <td>v</td>\n",
       "      <td>0.250</td>\n",
       "      <td>f</td>\n",
       "      <td>f</td>\n",
       "      <td>0</td>\n",
       "      <td>t</td>\n",
       "      <td>g</td>\n",
       "      <td>00300</td>\n",
       "      <td>0</td>\n",
       "      <td>-</td>\n",
       "    </tr>\n",
       "    <tr>\n",
       "      <th>479</th>\n",
       "      <td>?</td>\n",
       "      <td>26.50</td>\n",
       "      <td>2.710</td>\n",
       "      <td>y</td>\n",
       "      <td>p</td>\n",
       "      <td>?</td>\n",
       "      <td>?</td>\n",
       "      <td>0.085</td>\n",
       "      <td>f</td>\n",
       "      <td>f</td>\n",
       "      <td>0</td>\n",
       "      <td>f</td>\n",
       "      <td>s</td>\n",
       "      <td>00080</td>\n",
       "      <td>0</td>\n",
       "      <td>-</td>\n",
       "    </tr>\n",
       "    <tr>\n",
       "      <th>489</th>\n",
       "      <td>?</td>\n",
       "      <td>45.33</td>\n",
       "      <td>1.000</td>\n",
       "      <td>u</td>\n",
       "      <td>g</td>\n",
       "      <td>q</td>\n",
       "      <td>v</td>\n",
       "      <td>0.125</td>\n",
       "      <td>f</td>\n",
       "      <td>f</td>\n",
       "      <td>0</td>\n",
       "      <td>t</td>\n",
       "      <td>g</td>\n",
       "      <td>00263</td>\n",
       "      <td>0</td>\n",
       "      <td>-</td>\n",
       "    </tr>\n",
       "    <tr>\n",
       "      <th>520</th>\n",
       "      <td>?</td>\n",
       "      <td>20.42</td>\n",
       "      <td>7.500</td>\n",
       "      <td>u</td>\n",
       "      <td>g</td>\n",
       "      <td>k</td>\n",
       "      <td>v</td>\n",
       "      <td>1.500</td>\n",
       "      <td>t</td>\n",
       "      <td>t</td>\n",
       "      <td>1</td>\n",
       "      <td>f</td>\n",
       "      <td>g</td>\n",
       "      <td>00160</td>\n",
       "      <td>234</td>\n",
       "      <td>+</td>\n",
       "    </tr>\n",
       "    <tr>\n",
       "      <th>598</th>\n",
       "      <td>?</td>\n",
       "      <td>20.08</td>\n",
       "      <td>0.125</td>\n",
       "      <td>u</td>\n",
       "      <td>g</td>\n",
       "      <td>q</td>\n",
       "      <td>v</td>\n",
       "      <td>1.000</td>\n",
       "      <td>f</td>\n",
       "      <td>t</td>\n",
       "      <td>1</td>\n",
       "      <td>f</td>\n",
       "      <td>g</td>\n",
       "      <td>00240</td>\n",
       "      <td>768</td>\n",
       "      <td>+</td>\n",
       "    </tr>\n",
       "    <tr>\n",
       "      <th>601</th>\n",
       "      <td>?</td>\n",
       "      <td>42.25</td>\n",
       "      <td>1.750</td>\n",
       "      <td>y</td>\n",
       "      <td>p</td>\n",
       "      <td>?</td>\n",
       "      <td>?</td>\n",
       "      <td>0.000</td>\n",
       "      <td>f</td>\n",
       "      <td>f</td>\n",
       "      <td>0</td>\n",
       "      <td>t</td>\n",
       "      <td>g</td>\n",
       "      <td>00150</td>\n",
       "      <td>1</td>\n",
       "      <td>-</td>\n",
       "    </tr>\n",
       "    <tr>\n",
       "      <th>641</th>\n",
       "      <td>?</td>\n",
       "      <td>33.17</td>\n",
       "      <td>2.250</td>\n",
       "      <td>y</td>\n",
       "      <td>p</td>\n",
       "      <td>cc</td>\n",
       "      <td>v</td>\n",
       "      <td>3.500</td>\n",
       "      <td>f</td>\n",
       "      <td>f</td>\n",
       "      <td>0</td>\n",
       "      <td>t</td>\n",
       "      <td>g</td>\n",
       "      <td>00200</td>\n",
       "      <td>141</td>\n",
       "      <td>-</td>\n",
       "    </tr>\n",
       "    <tr>\n",
       "      <th>673</th>\n",
       "      <td>?</td>\n",
       "      <td>29.50</td>\n",
       "      <td>2.000</td>\n",
       "      <td>y</td>\n",
       "      <td>p</td>\n",
       "      <td>e</td>\n",
       "      <td>h</td>\n",
       "      <td>2.000</td>\n",
       "      <td>f</td>\n",
       "      <td>f</td>\n",
       "      <td>0</td>\n",
       "      <td>f</td>\n",
       "      <td>g</td>\n",
       "      <td>00256</td>\n",
       "      <td>17</td>\n",
       "      <td>-</td>\n",
       "    </tr>\n",
       "  </tbody>\n",
       "</table>\n",
       "</div>"
      ],
      "text/plain": [
       "    A1     A2      A3 A4 A5  A6  A7     A8 A9 A10  A11 A12 A13    A14   A15  \\\n",
       "248  ?  24.50  12.750  u  g   c  bb  4.750  t   t    2   f   g  00073   444   \n",
       "327  ?  40.83   3.500  u  g   i  bb  0.500  f   f    0   f   s  01160     0   \n",
       "346  ?  32.25   1.500  u  g   c   v  0.250  f   f    0   t   g  00372   122   \n",
       "374  ?  28.17   0.585  u  g  aa   v  0.040  f   f    0   f   g  00260  1004   \n",
       "453  ?  29.75   0.665  u  g   w   v  0.250  f   f    0   t   g  00300     0   \n",
       "479  ?  26.50   2.710  y  p   ?   ?  0.085  f   f    0   f   s  00080     0   \n",
       "489  ?  45.33   1.000  u  g   q   v  0.125  f   f    0   t   g  00263     0   \n",
       "520  ?  20.42   7.500  u  g   k   v  1.500  t   t    1   f   g  00160   234   \n",
       "598  ?  20.08   0.125  u  g   q   v  1.000  f   t    1   f   g  00240   768   \n",
       "601  ?  42.25   1.750  y  p   ?   ?  0.000  f   f    0   t   g  00150     1   \n",
       "641  ?  33.17   2.250  y  p  cc   v  3.500  f   f    0   t   g  00200   141   \n",
       "673  ?  29.50   2.000  y  p   e   h  2.000  f   f    0   f   g  00256    17   \n",
       "\n",
       "    Outcome  \n",
       "248       +  \n",
       "327       -  \n",
       "346       -  \n",
       "374       -  \n",
       "453       -  \n",
       "479       -  \n",
       "489       -  \n",
       "520       +  \n",
       "598       +  \n",
       "601       -  \n",
       "641       -  \n",
       "673       -  "
      ]
     },
     "execution_count": 7,
     "metadata": {},
     "output_type": "execute_result"
    }
   ],
   "source": [
    "# pulling out entries based on column A1 which may not contain alphabets\n",
    "ccard_df[~ccard_df['A1'].apply(lambda x: x.isalpha())]"
   ]
  },
  {
   "cell_type": "code",
   "execution_count": 8,
   "id": "532c3fc8",
   "metadata": {},
   "outputs": [],
   "source": [
    "# replace column a1 with nan\n",
    "\n",
    "ccard_df.replace('?', np.nan, inplace=True)"
   ]
  },
  {
   "cell_type": "code",
   "execution_count": 9,
   "id": "611e3861",
   "metadata": {},
   "outputs": [
    {
     "data": {
      "text/plain": [
       "True"
      ]
     },
     "execution_count": 9,
     "metadata": {},
     "output_type": "execute_result"
    }
   ],
   "source": [
    "# check if all entries are of the same length\n",
    "all(ccard_df['A14'].dropna().apply(lambda x: len(str(x)) == 5))"
   ]
  },
  {
   "cell_type": "code",
   "execution_count": 10,
   "id": "a44712ca",
   "metadata": {},
   "outputs": [
    {
     "data": {
      "text/plain": [
       "array(['00202', '00043', '00280', '00100', '00120', '00360', '00164',\n",
       "       '00080', '00180', '00052', '00128', '00260', '00000', '00320',\n",
       "       '00396', '00096', '00200', '00300', '00145', '00500', '00168',\n",
       "       '00434', '00583', '00030', '00240', '00070', '00455', '00311',\n",
       "       '00216', '00491', '00400', '00239', '00160', '00711', '00250',\n",
       "       '00520', '00515', '00420', nan, '00980', '00443', '00140', '00094',\n",
       "       '00368', '00288', '00928', '00188', '00112', '00171', '00268',\n",
       "       '00167', '00075', '00152', '00176', '00329', '00212', '00410',\n",
       "       '00274', '00375', '00408', '00350', '00204', '00040', '00181',\n",
       "       '00399', '00440', '00093', '00060', '00395', '00393', '00021',\n",
       "       '00029', '00102', '00431', '00370', '00024', '00020', '00129',\n",
       "       '00510', '00195', '00144', '00380', '00049', '00050', '00381',\n",
       "       '00150', '00117', '00056', '00211', '00230', '00156', '00022',\n",
       "       '00228', '00519', '00253', '00487', '00220', '00088', '00073',\n",
       "       '00121', '00470', '00136', '00132', '00292', '00154', '00272',\n",
       "       '00340', '00108', '00720', '00450', '00232', '00170', '01160',\n",
       "       '00411', '00460', '00348', '00480', '00640', '00372', '00276',\n",
       "       '00221', '00352', '00141', '00178', '00600', '00550', '02000',\n",
       "       '00225', '00210', '00110', '00356', '00045', '00062', '00092',\n",
       "       '00174', '00017', '00086', '00454', '00254', '00028', '00263',\n",
       "       '00333', '00312', '00290', '00371', '00099', '00252', '00760',\n",
       "       '00560', '00130', '00523', '00680', '00163', '00208', '00383',\n",
       "       '00330', '00422', '00840', '00432', '00032', '00186', '00303',\n",
       "       '00349', '00224', '00369', '00076', '00231', '00309', '00416',\n",
       "       '00465', '00256'], dtype=object)"
      ]
     },
     "execution_count": 10,
     "metadata": {},
     "output_type": "execute_result"
    }
   ],
   "source": [
    "# check the entries in that columns\n",
    "ccard_df['A14'].unique()"
   ]
  },
  {
   "cell_type": "code",
   "execution_count": 11,
   "id": "f3f15787",
   "metadata": {},
   "outputs": [],
   "source": [
    "#drop column A14 bcos it could be a postal code which is not needed - bcos its 5 digit and will not be needed\n",
    "ccard_df = ccard_df.drop('A14', axis=1)"
   ]
  },
  {
   "cell_type": "code",
   "execution_count": 13,
   "id": "8e67ca35",
   "metadata": {},
   "outputs": [],
   "source": [
    "# check if all features are right data type\n",
    "\n",
    "ccard_df = ccard_df.astype({'A2':'float'})"
   ]
  },
  {
   "cell_type": "code",
   "execution_count": 14,
   "id": "4559523f",
   "metadata": {},
   "outputs": [
    {
     "name": "stdout",
     "output_type": "stream",
     "text": [
      "Columns: # missing entries\n",
      "--------------------------\n"
     ]
    },
    {
     "data": {
      "text/plain": [
       "A1         12\n",
       "A2         12\n",
       "A3          0\n",
       "A4          6\n",
       "A5          6\n",
       "A6          9\n",
       "A7          9\n",
       "A8          0\n",
       "A9          0\n",
       "A10         0\n",
       "A11         0\n",
       "A12         0\n",
       "A13         0\n",
       "A15         0\n",
       "Outcome     0\n",
       "dtype: int64"
      ]
     },
     "execution_count": 14,
     "metadata": {},
     "output_type": "execute_result"
    }
   ],
   "source": [
    "# determine null entries\n",
    "print('Columns: # missing entries')\n",
    "print('--------------------------')\n",
    "ccard_df.isnull().sum()"
   ]
  },
  {
   "cell_type": "markdown",
   "id": "6d736b98",
   "metadata": {},
   "source": [
    "# Handling missing values"
   ]
  },
  {
   "cell_type": "code",
   "execution_count": 17,
   "id": "3c1e7309",
   "metadata": {},
   "outputs": [],
   "source": [
    "# performing data inputation\n",
    "for col in ccard_df.columns:\n",
    "    if ccard_df[col].dtypes == 'object':\n",
    "        # getting the mode of the categorical column\n",
    "        most_freq_value = ccard_df[col].value_counts().index[0]\n",
    "        ccard_df[col].fillna(most_freq_value,inplace=True)\n",
    "    else:\n",
    "        # using the mean for non categorical features\n",
    "        mean_value = ccard_df[col].mean()\n",
    "        ccard_df[col].fillna(mean_value,inplace=True)\n"
   ]
  },
  {
   "cell_type": "code",
   "execution_count": 18,
   "id": "78da5bd0",
   "metadata": {},
   "outputs": [
    {
     "data": {
      "text/plain": [
       "A1         0\n",
       "A2         0\n",
       "A3         0\n",
       "A4         0\n",
       "A5         0\n",
       "A6         0\n",
       "A7         0\n",
       "A8         0\n",
       "A9         0\n",
       "A10        0\n",
       "A11        0\n",
       "A12        0\n",
       "A13        0\n",
       "A15        0\n",
       "Outcome    0\n",
       "dtype: int64"
      ]
     },
     "execution_count": 18,
     "metadata": {},
     "output_type": "execute_result"
    }
   ],
   "source": [
    "ccard_df.isnull().sum()"
   ]
  },
  {
   "cell_type": "code",
   "execution_count": 19,
   "id": "eaecf01a",
   "metadata": {},
   "outputs": [],
   "source": [
    "#convert the outcome column '= and '-' to 1 and 0\n",
    "ccard_df['Outcome'] = ccard_df['Outcome'].apply(lambda x: 1 if x=='+' else 0)"
   ]
  },
  {
   "cell_type": "markdown",
   "id": "1c6a7bfb",
   "metadata": {},
   "source": [
    "# Exploratory Analysis"
   ]
  },
  {
   "cell_type": "code",
   "execution_count": 20,
   "id": "c9f8396d",
   "metadata": {},
   "outputs": [],
   "source": [
    "# splitting the dataframe into categorical and numerical features\n",
    "cat_col = [col_name for col_name in ccard_df.columns if ccard_df[col_name].dtypes == 'object']\n",
    "num_col = [col_name for col_name in ccard_df.columns if ccard_df[col_name].dtypes != 'object']"
   ]
  },
  {
   "cell_type": "code",
   "execution_count": 21,
   "id": "3f9e445d",
   "metadata": {},
   "outputs": [
    {
     "data": {
      "image/png": "[encoded data removed]",
      "text/plain": [
       "<Figure size 1000x1000 with 5 Axes>"
      ]
     },
     "metadata": {},
     "output_type": "display_data"
    }
   ],
   "source": [
    "fig = plt.figure(figsize=(10, 10))\n",
    "plt.subplots_adjust(hspace=0.5)\n",
    "\n",
    "for counter, elmt in enumerate(num_col[:-1]):\n",
    "    axs = plt.subplot(3, 2, counter + 1)\n",
    "    sns.histplot(data=ccard_df, x=elmt, ax=axs)\n",
    "\n",
    "plt.show()"
   ]
  },
  {
   "cell_type": "markdown",
   "id": "df02e8d6",
   "metadata": {},
   "source": [
    "#From the above, this indicate that the feature are highly skewed"
   ]
  },
  {
   "cell_type": "code",
   "execution_count": 22,
   "id": "7fae46fa",
   "metadata": {},
   "outputs": [
    {
     "data": {
      "text/html": [
       "<div>\n",
       "<style scoped>\n",
       "    .dataframe tbody tr th:only-of-type {\n",
       "        vertical-align: middle;\n",
       "    }\n",
       "\n",
       "    .dataframe tbody tr th {\n",
       "        vertical-align: top;\n",
       "    }\n",
       "\n",
       "    .dataframe thead th {\n",
       "        text-align: right;\n",
       "    }\n",
       "</style>\n",
       "<table border=\"1\" class=\"dataframe\">\n",
       "  <thead>\n",
       "    <tr style=\"text-align: right;\">\n",
       "      <th></th>\n",
       "      <th>A1</th>\n",
       "      <th>age</th>\n",
       "      <th>debt</th>\n",
       "      <th>A4</th>\n",
       "      <th>A5</th>\n",
       "      <th>A6</th>\n",
       "      <th>A7</th>\n",
       "      <th>yearsOfEmployment</th>\n",
       "      <th>A9</th>\n",
       "      <th>A10</th>\n",
       "      <th>creditScore</th>\n",
       "      <th>A12</th>\n",
       "      <th>A13</th>\n",
       "      <th>income</th>\n",
       "      <th>Outcome</th>\n",
       "    </tr>\n",
       "  </thead>\n",
       "  <tbody>\n",
       "    <tr>\n",
       "      <th>0</th>\n",
       "      <td>b</td>\n",
       "      <td>30.83</td>\n",
       "      <td>0.00</td>\n",
       "      <td>u</td>\n",
       "      <td>g</td>\n",
       "      <td>w</td>\n",
       "      <td>v</td>\n",
       "      <td>1.25</td>\n",
       "      <td>t</td>\n",
       "      <td>t</td>\n",
       "      <td>1</td>\n",
       "      <td>f</td>\n",
       "      <td>g</td>\n",
       "      <td>0</td>\n",
       "      <td>1</td>\n",
       "    </tr>\n",
       "    <tr>\n",
       "      <th>1</th>\n",
       "      <td>a</td>\n",
       "      <td>58.67</td>\n",
       "      <td>4.46</td>\n",
       "      <td>u</td>\n",
       "      <td>g</td>\n",
       "      <td>q</td>\n",
       "      <td>h</td>\n",
       "      <td>3.04</td>\n",
       "      <td>t</td>\n",
       "      <td>t</td>\n",
       "      <td>6</td>\n",
       "      <td>f</td>\n",
       "      <td>g</td>\n",
       "      <td>560</td>\n",
       "      <td>1</td>\n",
       "    </tr>\n",
       "  </tbody>\n",
       "</table>\n",
       "</div>"
      ],
      "text/plain": [
       "  A1    age  debt A4 A5 A6 A7  yearsOfEmployment A9 A10  creditScore A12 A13  \\\n",
       "0  b  30.83  0.00  u  g  w  v               1.25  t   t            1   f   g   \n",
       "1  a  58.67  4.46  u  g  q  h               3.04  t   t            6   f   g   \n",
       "\n",
       "   income  Outcome  \n",
       "0       0        1  \n",
       "1     560        1  "
      ]
     },
     "execution_count": 22,
     "metadata": {},
     "output_type": "execute_result"
    }
   ],
   "source": [
    "#renaming columns\n",
    "ccard_df = ccard_df.rename(columns={'A2':'age','A11':'creditScore','A15':'income',\\\n",
    "                      'A3':'debt','A8':'yearsOfEmployment'})\n",
    "ccard_df.head(n=2)"
   ]
  },
  {
   "cell_type": "code",
   "execution_count": 23,
   "id": "3b3232e7",
   "metadata": {},
   "outputs": [],
   "source": [
    "#To handle the skewedness we have to normalise and transform by using the logarithm and observe the result\n",
    "\n",
    "# getting back the numerical columns since the columns have be  renamed \n",
    "num_col = [col_name for col_name in ccard_df.columns \n",
    "           if ccard_df[col_name].dtypes != 'object']"
   ]
  },
  {
   "cell_type": "code",
   "execution_count": 24,
   "id": "5d5c74ee",
   "metadata": {
    "scrolled": true
   },
   "outputs": [
    {
     "data": {
      "text/html": [
       "<div>\n",
       "<style scoped>\n",
       "    .dataframe tbody tr th:only-of-type {\n",
       "        vertical-align: middle;\n",
       "    }\n",
       "\n",
       "    .dataframe tbody tr th {\n",
       "        vertical-align: top;\n",
       "    }\n",
       "\n",
       "    .dataframe thead th {\n",
       "        text-align: right;\n",
       "    }\n",
       "</style>\n",
       "<table border=\"1\" class=\"dataframe\">\n",
       "  <thead>\n",
       "    <tr style=\"text-align: right;\">\n",
       "      <th></th>\n",
       "      <th>raw</th>\n",
       "      <th>log</th>\n",
       "      <th>logNorm</th>\n",
       "    </tr>\n",
       "  </thead>\n",
       "  <tbody>\n",
       "    <tr>\n",
       "      <th>0</th>\n",
       "      <td>0.000</td>\n",
       "      <td>0.000000</td>\n",
       "      <td>-0.736568</td>\n",
       "    </tr>\n",
       "    <tr>\n",
       "      <th>1</th>\n",
       "      <td>4.460</td>\n",
       "      <td>0.649335</td>\n",
       "      <td>0.443026</td>\n",
       "    </tr>\n",
       "    <tr>\n",
       "      <th>2</th>\n",
       "      <td>0.500</td>\n",
       "      <td>-0.301030</td>\n",
       "      <td>-1.283425</td>\n",
       "    </tr>\n",
       "    <tr>\n",
       "      <th>3</th>\n",
       "      <td>1.540</td>\n",
       "      <td>0.187521</td>\n",
       "      <td>-0.395915</td>\n",
       "    </tr>\n",
       "    <tr>\n",
       "      <th>4</th>\n",
       "      <td>5.625</td>\n",
       "      <td>0.750123</td>\n",
       "      <td>0.626118</td>\n",
       "    </tr>\n",
       "  </tbody>\n",
       "</table>\n",
       "</div>"
      ],
      "text/plain": [
       "     raw       log   logNorm\n",
       "0  0.000  0.000000 -0.736568\n",
       "1  4.460  0.649335  0.443026\n",
       "2  0.500 -0.301030 -1.283425\n",
       "3  1.540  0.187521 -0.395915\n",
       "4  5.625  0.750123  0.626118"
      ]
     },
     "execution_count": 24,
     "metadata": {},
     "output_type": "execute_result"
    }
   ],
   "source": [
    "# Using the debt column for testing\n",
    "df_transform = pd.DataFrame(columns = {'raw','log','logNorm'})\n",
    "df_transform['raw'] = ccard_df['debt']\n",
    "\n",
    "# create a column with the entries in log\n",
    "df_transform['log'] = ccard_df['debt'].apply(lambda x: np.log10(x) if x!=0 else 0)\n",
    "\n",
    "# calculating the z-score of the log columns\n",
    "df_transform['logNorm'] = (df_transform['log'] - df_transform['log'].mean())/df_transform['log'].std()\n",
    "df_transform = df_transform[['raw','log','logNorm']]\n",
    "df_transform.head()"
   ]
  },
  {
   "cell_type": "code",
   "execution_count": 25,
   "id": "e533768c",
   "metadata": {},
   "outputs": [
    {
     "data": {
      "image/png": "[encoded data removed]",
      "text/plain": [
       "<Figure size 1500x500 with 3 Axes>"
      ]
     },
     "metadata": {},
     "output_type": "display_data"
    }
   ],
   "source": [
    "# observe the output\n",
    "fig = plt.figure(figsize=(15,5))\n",
    "plt.subplots_adjust(hspace=0.5)\n",
    "for j,item in enumerate(list(df_transform.columns)):\n",
    "    axs = plt.subplot(1,3,j+1)\n",
    "    sns.histplot(data=df_transform,x=item,ax=axs)"
   ]
  },
  {
   "cell_type": "markdown",
   "id": "438f33a6",
   "metadata": {},
   "source": [
    "#The above shows decrease in skewedness as seen in the 'log'figure.\n",
    "\n"
   ]
  },
  {
   "cell_type": "code",
   "execution_count": 26,
   "id": "d70fc3b0",
   "metadata": {},
   "outputs": [],
   "source": [
    "# taking the log, the last column is not included since that is the target variable\n",
    "ccard_df[num_col[:-1]]= ccard_df[num_col[:-1]].applymap(lambda x: np.log(x)\n",
    "                                                      if x!=0 else 0)"
   ]
  },
  {
   "cell_type": "code",
   "execution_count": 27,
   "id": "c8fc6c29",
   "metadata": {},
   "outputs": [],
   "source": [
    "# calculate z-score of the entire dataframe\n",
    "from scipy.stats import zscore\n",
    "ccard_df[num_col[:-1]] = ccard_df[num_col[:-1]].apply(zscore)"
   ]
  },
  {
   "cell_type": "code",
   "execution_count": 28,
   "id": "d3a6fe84",
   "metadata": {},
   "outputs": [
    {
     "data": {
      "text/plain": [
       "<AxesSubplot:xlabel='debt', ylabel='Count'>"
      ]
     },
     "execution_count": 28,
     "metadata": {},
     "output_type": "execute_result"
    },
    {
     "data": {
      "image/png": "[encoded data removed]",
      "text/plain": [
       "<Figure size 640x480 with 1 Axes>"
      ]
     },
     "metadata": {},
     "output_type": "display_data"
    }
   ],
   "source": [
    "#Plot the feature 'debt' again \n",
    "sns.histplot(data=ccard_df, x='debt')"
   ]
  },
  {
   "cell_type": "code",
   "execution_count": 29,
   "id": "904ddd0d",
   "metadata": {},
   "outputs": [
    {
     "data": {
      "text/plain": [
       "<AxesSubplot:>"
      ]
     },
     "execution_count": 29,
     "metadata": {},
     "output_type": "execute_result"
    },
    {
     "data": {
      "image/png": "[encoded data removed]",
      "text/plain": [
       "<Figure size 640x480 with 2 Axes>"
      ]
     },
     "metadata": {},
     "output_type": "display_data"
    }
   ],
   "source": [
    "# observe the relationship among the features. \n",
    "data_cor = ccard_df[num_col[:-1]].corr()\n",
    "mask = np.triu(data_cor)\n",
    "sns.heatmap(data_cor, mask=mask, vmin=0,vmax=1,annot=True)"
   ]
  },
  {
   "cell_type": "code",
   "execution_count": 30,
   "id": "a4669691",
   "metadata": {},
   "outputs": [],
   "source": [
    "# from the above, all the features are poorly correlated among themselves, we are keeping all of them.\n"
   ]
  },
  {
   "cell_type": "code",
   "execution_count": 31,
   "id": "cb8c2101",
   "metadata": {},
   "outputs": [
    {
     "data": {
      "text/plain": [
       "Text(0.5, 1.0, 'Accepted versus denied applications')"
      ]
     },
     "execution_count": 31,
     "metadata": {},
     "output_type": "execute_result"
    },
    {
     "data": {
      "image/png": "[encoded data removed]",
      "text/plain": [
       "<Figure size 640x480 with 1 Axes>"
      ]
     },
     "metadata": {},
     "output_type": "display_data"
    }
   ],
   "source": [
    "#The distribution of the target variable looks like\n",
    "\n",
    "#piechart \n",
    "pieChart = ccard_df['Outcome'].value_counts()\n",
    "plt.pie(pieChart, autopct='%1.1f%%')\n",
    "plt.legend(labels = ['denied','accepted'], loc='upper right', bbox_to_anchor=(1.4,1))\n",
    "plt.title('Accepted versus denied applications')"
   ]
  },
  {
   "cell_type": "code",
   "execution_count": 32,
   "id": "4cf37f7c",
   "metadata": {},
   "outputs": [],
   "source": [
    "# The proportions of accepted versus denied is adequate for the models to accurately predicts the impact of features on them. Next let's observe how these features are related to our target variable."
   ]
  },
  {
   "cell_type": "code",
   "execution_count": 34,
   "id": "da073383",
   "metadata": {
    "scrolled": true
   },
   "outputs": [
    {
     "data": {
      "image/png": "[encoded data removed]",
      "text/plain": [
       "<Figure size 1500x1000 with 5 Axes>"
      ]
     },
     "metadata": {},
     "output_type": "display_data"
    }
   ],
   "source": [
    "fig = plt.figure(figsize=(15,10))\n",
    "plt.subplots_adjust(hspace=0.5)\n",
    "for i,item in enumerate(num_col[:-1]):\n",
    "    axs = plt.subplot(3,2,i+1)\n",
    "    sns.boxplot(data=ccard_df, x=item,y='Outcome', orient='h', ax=axs)"
   ]
  },
  {
   "cell_type": "code",
   "execution_count": 35,
   "id": "b9b4c90e",
   "metadata": {},
   "outputs": [],
   "source": [
    "# import the required modules\n",
    "\n",
    "from sklearn.feature_selection import SelectKBest, f_regression\n",
    "\n",
    "X_fs = ccard_df[num_col[:-1]]\n",
    "y_fs = ccard_df[num_col[-1]]\n",
    "fs = SelectKBest(score_func=f_regression,k=5)\n",
    "X_new = fs.fit_transform(X_fs,y_fs)"
   ]
  },
  {
   "cell_type": "code",
   "execution_count": 36,
   "id": "0f20a9f9",
   "metadata": {},
   "outputs": [
    {
     "data": {
      "text/plain": [
       "<AxesSubplot:ylabel='feature'>"
      ]
     },
     "execution_count": 36,
     "metadata": {},
     "output_type": "execute_result"
    },
    {
     "data": {
      "image/png": "[encoded data removed]",
      "text/plain": [
       "<Figure size 640x480 with 1 Axes>"
      ]
     },
     "metadata": {},
     "output_type": "display_data"
    }
   ],
   "source": [
    "# save the output to a dataframe for ease of plotting.\n",
    "featureScores = pd.DataFrame({'feature':X_fs.columns,'score':fs.scores_})\n",
    "featureScores.sort_values(by='score').plot(kind='barh',x='feature',y='score')\n"
   ]
  },
  {
   "cell_type": "code",
   "execution_count": 38,
   "id": "b4a45712",
   "metadata": {},
   "outputs": [],
   "source": [
    "# # from the above, it shows that creditscore and years of employment are the most important features "
   ]
  },
  {
   "cell_type": "code",
   "execution_count": 40,
   "id": "313232e8",
   "metadata": {},
   "outputs": [
    {
     "name": "stdout",
     "output_type": "stream",
     "text": [
      "A1 has these unique entries ['b' 'a']\n",
      "A4 has these unique entries ['u' 'y' 'l']\n",
      "A5 has these unique entries ['g' 'p' 'gg']\n",
      "A6 has these unique entries ['w' 'q' 'm' 'r' 'cc' 'k' 'c' 'd' 'x' 'i' 'e' 'aa' 'ff' 'j']\n",
      "A7 has these unique entries ['v' 'h' 'bb' 'ff' 'j' 'z' 'o' 'dd' 'n']\n",
      "A9 has these unique entries ['t' 'f']\n",
      "A10 has these unique entries ['t' 'f']\n",
      "A12 has these unique entries ['f' 't']\n",
      "A13 has these unique entries ['g' 's' 'p']\n"
     ]
    }
   ],
   "source": [
    "# categorical features \n",
    "for feature in cat_col:\n",
    "    print(f'{feature} has these unique entries {ccard_df[feature].unique()}')"
   ]
  },
  {
   "cell_type": "code",
   "execution_count": 41,
   "id": "573f38bd",
   "metadata": {},
   "outputs": [
    {
     "data": {
      "text/html": [
       "<div>\n",
       "<style scoped>\n",
       "    .dataframe tbody tr th:only-of-type {\n",
       "        vertical-align: middle;\n",
       "    }\n",
       "\n",
       "    .dataframe tbody tr th {\n",
       "        vertical-align: top;\n",
       "    }\n",
       "\n",
       "    .dataframe thead th {\n",
       "        text-align: right;\n",
       "    }\n",
       "</style>\n",
       "<table border=\"1\" class=\"dataframe\">\n",
       "  <thead>\n",
       "    <tr style=\"text-align: right;\">\n",
       "      <th></th>\n",
       "      <th>A1</th>\n",
       "      <th>A4</th>\n",
       "    </tr>\n",
       "  </thead>\n",
       "  <tbody>\n",
       "    <tr>\n",
       "      <th>0</th>\n",
       "      <td>b</td>\n",
       "      <td>u</td>\n",
       "    </tr>\n",
       "    <tr>\n",
       "      <th>1</th>\n",
       "      <td>a</td>\n",
       "      <td>u</td>\n",
       "    </tr>\n",
       "  </tbody>\n",
       "</table>\n",
       "</div>"
      ],
      "text/plain": [
       "  A1 A4\n",
       "0  b  u\n",
       "1  a  u"
      ]
     },
     "execution_count": 41,
     "metadata": {},
     "output_type": "execute_result"
    }
   ],
   "source": [
    "# a look at the content of the 1st two features\n",
    "ccard_df[cat_col[:2]].head(n=2)"
   ]
  },
  {
   "cell_type": "code",
   "execution_count": 42,
   "id": "f79cdac4",
   "metadata": {},
   "outputs": [
    {
     "data": {
      "text/html": [
       "<div>\n",
       "<style scoped>\n",
       "    .dataframe tbody tr th:only-of-type {\n",
       "        vertical-align: middle;\n",
       "    }\n",
       "\n",
       "    .dataframe tbody tr th {\n",
       "        vertical-align: top;\n",
       "    }\n",
       "\n",
       "    .dataframe thead th {\n",
       "        text-align: right;\n",
       "    }\n",
       "</style>\n",
       "<table border=\"1\" class=\"dataframe\">\n",
       "  <thead>\n",
       "    <tr style=\"text-align: right;\">\n",
       "      <th></th>\n",
       "      <th>A1_b</th>\n",
       "      <th>A4_u</th>\n",
       "      <th>A4_y</th>\n",
       "    </tr>\n",
       "  </thead>\n",
       "  <tbody>\n",
       "    <tr>\n",
       "      <th>0</th>\n",
       "      <td>1</td>\n",
       "      <td>1</td>\n",
       "      <td>0</td>\n",
       "    </tr>\n",
       "    <tr>\n",
       "      <th>1</th>\n",
       "      <td>0</td>\n",
       "      <td>1</td>\n",
       "      <td>0</td>\n",
       "    </tr>\n",
       "  </tbody>\n",
       "</table>\n",
       "</div>"
      ],
      "text/plain": [
       "   A1_b  A4_u  A4_y\n",
       "0     1     1     0\n",
       "1     0     1     0"
      ]
     },
     "execution_count": 42,
     "metadata": {},
     "output_type": "execute_result"
    }
   ],
   "source": [
    "# a look at the output of encoding\n",
    "df = pd.get_dummies(ccard_df[cat_col[:2]], drop_first=True)\n",
    "df.head(n=2)"
   ]
  },
  {
   "cell_type": "markdown",
   "id": "2bb4f9e1",
   "metadata": {},
   "source": [
    "# Model Fit \n",
    "#using Logistic regression (because it assigns 50-50 probability of binary targets)"
   ]
  },
  {
   "cell_type": "code",
   "execution_count": 45,
   "id": "c0b11f70",
   "metadata": {},
   "outputs": [],
   "source": [
    "# For prediction, the following steps will be done:\n",
    "# 1. Split the data for train and testing purpose \n",
    "#2. Transformation: use zscore to put the on the same scale\n"
   ]
  },
  {
   "cell_type": "code",
   "execution_count": 52,
   "id": "45322504",
   "metadata": {},
   "outputs": [],
   "source": [
    "#To prevent data leakage, we repeat some previous steps\n"
   ]
  },
  {
   "cell_type": "code",
   "execution_count": 62,
   "id": "8f681f52",
   "metadata": {
    "scrolled": true
   },
   "outputs": [],
   "source": [
    "# getting the features and target variable\n",
    "X = ccard_df.drop('Outcome',axis=1)\n",
    "y=ccard_df['Outcome']\n"
   ]
  },
  {
   "cell_type": "code",
   "execution_count": 63,
   "id": "de9faf9c",
   "metadata": {},
   "outputs": [],
   "source": [
    "#split the data for training and testing \n",
    "from sklearn.model_selection import train_test_split\n",
    "num_features = X.select_dtypes(include=['int64','float64']).columns\n",
    "cat_features = X.select_dtypes(include=['object']).columns\n",
    "X_train,X_test,y_train,y_test = train_test_split(X,y, test_size=0.3)"
   ]
  },
  {
   "cell_type": "code",
   "execution_count": 64,
   "id": "221dd2ff",
   "metadata": {},
   "outputs": [],
   "source": [
    "#Transformation step into pipeline\n",
    "\n",
    "# import the pipeline\n",
    "from sklearn.pipeline import Pipeline\n",
    "\n",
    "# required for imputation\n",
    "from sklearn.impute import SimpleImputer\n",
    "\n",
    "# package required for scaling and getting the dummy variables\n",
    "from sklearn.preprocessing import StandardScaler, OneHotEncoder\n",
    "\n",
    "# column transformers to apply transformation to specified columns\n",
    "from sklearn.compose import ColumnTransformer"
   ]
  },
  {
   "cell_type": "code",
   "execution_count": 65,
   "id": "2ff9844f",
   "metadata": {},
   "outputs": [],
   "source": [
    "# pipeline to apply transformation to categorical features\n",
    "num_transformer = Pipeline(steps=[\n",
    "    ('imputer',SimpleImputer(strategy='mean')),\n",
    "    ('scaler', StandardScaler())\n",
    "])\n",
    "\n",
    "# pipeline to apply transformation to categorical features\n",
    "cat_transformer = Pipeline(steps=[\n",
    "    ('imputer', SimpleImputer(strategy='most_frequent')),\n",
    "    ('encoder',OneHotEncoder(handle_unknown='ignore'))\n",
    "])\n",
    "\n",
    "# define the transformer and supply it the features to transform\n",
    "preprocessing_steps = ColumnTransformer(transformers=[\n",
    "    ('num',num_transformer,num_features),\n",
    "    ('cat',cat_transformer,cat_features)\n",
    "])"
   ]
  },
  {
   "cell_type": "markdown",
   "id": "612bd3eb",
   "metadata": {},
   "source": [
    "# Prediction"
   ]
  },
  {
   "cell_type": "code",
   "execution_count": 66,
   "id": "43001e66",
   "metadata": {},
   "outputs": [],
   "source": [
    "from sklearn.linear_model import LogisticRegression\n",
    "logreg = LogisticRegression()\n",
    "logreg_pipeline = Pipeline(steps=[\n",
    "    ('transformer',preprocessing_steps),\n",
    "    ('logreg',logreg)\n",
    "])"
   ]
  },
  {
   "cell_type": "code",
   "execution_count": 67,
   "id": "e21d34d0",
   "metadata": {},
   "outputs": [
    {
     "name": "stdout",
     "output_type": "stream",
     "text": [
      "The accuracy of the model is = 0.855072463768116\n"
     ]
    }
   ],
   "source": [
    "# pass the data to the pipeline\n",
    "logreg_pipeline.fit(X_train,y_train)\n",
    "# make a prediction\n",
    "y_pred = logreg_pipeline.predict(X_test)\n",
    "# observe the scores\n",
    "score = logreg_pipeline.score(X_test,y_test)\n",
    "print(f'The accuracy of the model is = {score}')"
   ]
  },
  {
   "cell_type": "markdown",
   "id": "63dfce1d",
   "metadata": {},
   "source": [
    "The accuracy score 0.8551 indicates that the model correctly predicted the target variable for approximately 85.51% of the instance in the test set. This score is often used as a measure of the model's overall predictive performance. "
   ]
  },
  {
   "cell_type": "code",
   "execution_count": null,
   "id": "640c05b3",
   "metadata": {},
   "outputs": [],
   "source": []
  }
 ],
 "metadata": {
  "kernelspec": {
   "display_name": "Python 3 (ipykernel)",
   "language": "python",
   "name": "python3"
  },
  "language_info": {
   "codemirror_mode": {
    "name": "ipython",
    "version": 3
   },
   "file_extension": ".py",
   "mimetype": "text/x-python",
   "name": "python",
   "nbconvert_exporter": "python",
   "pygments_lexer": "ipython3",
   "version": "3.9.13"
  }
 },
 "nbformat": 4,
 "nbformat_minor": 5
}
